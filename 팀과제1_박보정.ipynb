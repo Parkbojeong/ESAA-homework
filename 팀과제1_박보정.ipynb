{
 "cells": [
  {
   "cell_type": "markdown",
   "metadata": {},
   "source": [
    "### 1. 조회수 100위까지 자르고, 태그 수를 비교/어떤 태그가 많이 사용되었는지 알아보기"
   ]
  },
  {
   "cell_type": "markdown",
   "metadata": {},
   "source": [
    "1) 파일 불러오기"
   ]
  },
  {
   "cell_type": "code",
   "execution_count": 2,
   "metadata": {},
   "outputs": [],
   "source": [
    "import pandas as pd\n",
    "input_fd = open('KRvideos.csv',errors = 'backslashreplace',encoding='utf-8')\n",
    "kr = pd.read_csv(input_fd)"
   ]
  },
  {
   "cell_type": "code",
   "execution_count": 16,
   "metadata": {},
   "outputs": [
    {
     "name": "stdout",
     "output_type": "stream",
     "text": [
      "(34567, 16)\n"
     ]
    }
   ],
   "source": [
    "print(kr.shape)"
   ]
  },
  {
   "cell_type": "markdown",
   "metadata": {},
   "source": [
    "2) 조회수 정렬 후 100위까지 자르기"
   ]
  },
  {
   "cell_type": "code",
   "execution_count": 56,
   "metadata": {},
   "outputs": [],
   "source": [
    "kr100 = kr.sort_values('views', ascending=False).iloc[:100,:]"
   ]
  },
  {
   "cell_type": "code",
   "execution_count": 54,
   "metadata": {},
   "outputs": [
    {
     "data": {
      "text/html": [
       "<div>\n",
       "<style scoped>\n",
       "    .dataframe tbody tr th:only-of-type {\n",
       "        vertical-align: middle;\n",
       "    }\n",
       "\n",
       "    .dataframe tbody tr th {\n",
       "        vertical-align: top;\n",
       "    }\n",
       "\n",
       "    .dataframe thead th {\n",
       "        text-align: right;\n",
       "    }\n",
       "</style>\n",
       "<table border=\"1\" class=\"dataframe\">\n",
       "  <thead>\n",
       "    <tr style=\"text-align: right;\">\n",
       "      <th></th>\n",
       "      <th>video_id</th>\n",
       "      <th>trending_date</th>\n",
       "      <th>title</th>\n",
       "      <th>channel_title</th>\n",
       "      <th>category_id</th>\n",
       "      <th>publish_time</th>\n",
       "      <th>tags</th>\n",
       "      <th>views</th>\n",
       "      <th>likes</th>\n",
       "      <th>dislikes</th>\n",
       "      <th>comment_count</th>\n",
       "      <th>thumbnail_link</th>\n",
       "      <th>comments_disabled</th>\n",
       "      <th>ratings_disabled</th>\n",
       "      <th>video_error_or_removed</th>\n",
       "      <th>description</th>\n",
       "    </tr>\n",
       "  </thead>\n",
       "  <tbody>\n",
       "    <tr>\n",
       "      <th>4856</th>\n",
       "      <td>FlsCjmMhFmw</td>\n",
       "      <td>17.11.12</td>\n",
       "      <td>YouTube Rewind: The Shape of 2017 | #YouTubeRe...</td>\n",
       "      <td>YouTube Spotlight</td>\n",
       "      <td>24</td>\n",
       "      <td>2017-12-06T17:58:51.000Z</td>\n",
       "      <td>Rewind|\"Rewind 2017\"|\"youtube rewind 2017\"|\"#Y...</td>\n",
       "      <td>113876217</td>\n",
       "      <td>2811223</td>\n",
       "      <td>1470388</td>\n",
       "      <td>787174</td>\n",
       "      <td>https://i.ytimg.com/vi/FlsCjmMhFmw/default.jpg</td>\n",
       "      <td>False</td>\n",
       "      <td>False</td>\n",
       "      <td>False</td>\n",
       "      <td>YouTube Rewind 2017. Celebrating the videos, p...</td>\n",
       "    </tr>\n",
       "    <tr>\n",
       "      <th>4678</th>\n",
       "      <td>FlsCjmMhFmw</td>\n",
       "      <td>17.10.12</td>\n",
       "      <td>YouTube Rewind: The Shape of 2017 | #YouTubeRe...</td>\n",
       "      <td>YouTube Spotlight</td>\n",
       "      <td>24</td>\n",
       "      <td>2017-12-06T17:58:51.000Z</td>\n",
       "      <td>Rewind|\"Rewind 2017\"|\"youtube rewind 2017\"|\"#Y...</td>\n",
       "      <td>100911567</td>\n",
       "      <td>2656686</td>\n",
       "      <td>1353663</td>\n",
       "      <td>682890</td>\n",
       "      <td>https://i.ytimg.com/vi/FlsCjmMhFmw/default.jpg</td>\n",
       "      <td>False</td>\n",
       "      <td>False</td>\n",
       "      <td>False</td>\n",
       "      <td>YouTube Rewind 2017. Celebrating the videos, p...</td>\n",
       "    </tr>\n",
       "    <tr>\n",
       "      <th>4018</th>\n",
       "      <td>6ZfuNTqbHE8</td>\n",
       "      <td>17.06.12</td>\n",
       "      <td>Marvel Studios' Avengers: Infinity War Officia...</td>\n",
       "      <td>Marvel Entertainment</td>\n",
       "      <td>24</td>\n",
       "      <td>2017-11-29T13:26:24.000Z</td>\n",
       "      <td>marvel|\"comics\"|\"comic books\"|\"nerdy\"|\"geeky\"|...</td>\n",
       "      <td>87450245</td>\n",
       "      <td>2584675</td>\n",
       "      <td>52176</td>\n",
       "      <td>341571</td>\n",
       "      <td>https://i.ytimg.com/vi/6ZfuNTqbHE8/default.jpg</td>\n",
       "      <td>False</td>\n",
       "      <td>False</td>\n",
       "      <td>False</td>\n",
       "      <td>There was an idea… Avengers: Infinity War. In ...</td>\n",
       "    </tr>\n",
       "    <tr>\n",
       "      <th>30844</th>\n",
       "      <td>7C2z4GqqS5E</td>\n",
       "      <td>18.24.05</td>\n",
       "      <td>BTS (방탄소년단) 'FAKE LOVE' Official MV</td>\n",
       "      <td>ibighit</td>\n",
       "      <td>10</td>\n",
       "      <td>2018-05-18T09:00:02.000Z</td>\n",
       "      <td>BIGHIT|\"빅히트\"|\"방탄소년단\"|\"BTS\"|\"BANGTAN\"|\"방탄\"|\"FAK...</td>\n",
       "      <td>87430865</td>\n",
       "      <td>5150839</td>\n",
       "      <td>172570</td>\n",
       "      <td>1142274</td>\n",
       "      <td>https://i.ytimg.com/vi/7C2z4GqqS5E/default.jpg</td>\n",
       "      <td>False</td>\n",
       "      <td>False</td>\n",
       "      <td>False</td>\n",
       "      <td>BTS (방탄소년단) 'FAKE LOVE' Official MVDirector : ...</td>\n",
       "    </tr>\n",
       "    <tr>\n",
       "      <th>3750</th>\n",
       "      <td>6ZfuNTqbHE8</td>\n",
       "      <td>17.05.12</td>\n",
       "      <td>Marvel Studios' Avengers: Infinity War Officia...</td>\n",
       "      <td>Marvel Entertainment</td>\n",
       "      <td>24</td>\n",
       "      <td>2017-11-29T13:26:24.000Z</td>\n",
       "      <td>marvel|\"comics\"|\"comic books\"|\"nerdy\"|\"geeky\"|...</td>\n",
       "      <td>84281319</td>\n",
       "      <td>2555414</td>\n",
       "      <td>51008</td>\n",
       "      <td>339708</td>\n",
       "      <td>https://i.ytimg.com/vi/6ZfuNTqbHE8/default.jpg</td>\n",
       "      <td>False</td>\n",
       "      <td>False</td>\n",
       "      <td>False</td>\n",
       "      <td>There was an idea… Avengers: Infinity War. In ...</td>\n",
       "    </tr>\n",
       "  </tbody>\n",
       "</table>\n",
       "</div>"
      ],
      "text/plain": [
       "          video_id trending_date  \\\n",
       "4856   FlsCjmMhFmw      17.11.12   \n",
       "4678   FlsCjmMhFmw      17.10.12   \n",
       "4018   6ZfuNTqbHE8      17.06.12   \n",
       "30844  7C2z4GqqS5E      18.24.05   \n",
       "3750   6ZfuNTqbHE8      17.05.12   \n",
       "\n",
       "                                                   title  \\\n",
       "4856   YouTube Rewind: The Shape of 2017 | #YouTubeRe...   \n",
       "4678   YouTube Rewind: The Shape of 2017 | #YouTubeRe...   \n",
       "4018   Marvel Studios' Avengers: Infinity War Officia...   \n",
       "30844                BTS (방탄소년단) 'FAKE LOVE' Official MV   \n",
       "3750   Marvel Studios' Avengers: Infinity War Officia...   \n",
       "\n",
       "              channel_title  category_id              publish_time  \\\n",
       "4856      YouTube Spotlight           24  2017-12-06T17:58:51.000Z   \n",
       "4678      YouTube Spotlight           24  2017-12-06T17:58:51.000Z   \n",
       "4018   Marvel Entertainment           24  2017-11-29T13:26:24.000Z   \n",
       "30844               ibighit           10  2018-05-18T09:00:02.000Z   \n",
       "3750   Marvel Entertainment           24  2017-11-29T13:26:24.000Z   \n",
       "\n",
       "                                                    tags      views    likes  \\\n",
       "4856   Rewind|\"Rewind 2017\"|\"youtube rewind 2017\"|\"#Y...  113876217  2811223   \n",
       "4678   Rewind|\"Rewind 2017\"|\"youtube rewind 2017\"|\"#Y...  100911567  2656686   \n",
       "4018   marvel|\"comics\"|\"comic books\"|\"nerdy\"|\"geeky\"|...   87450245  2584675   \n",
       "30844  BIGHIT|\"빅히트\"|\"방탄소년단\"|\"BTS\"|\"BANGTAN\"|\"방탄\"|\"FAK...   87430865  5150839   \n",
       "3750   marvel|\"comics\"|\"comic books\"|\"nerdy\"|\"geeky\"|...   84281319  2555414   \n",
       "\n",
       "       dislikes  comment_count  \\\n",
       "4856    1470388         787174   \n",
       "4678    1353663         682890   \n",
       "4018      52176         341571   \n",
       "30844    172570        1142274   \n",
       "3750      51008         339708   \n",
       "\n",
       "                                       thumbnail_link  comments_disabled  \\\n",
       "4856   https://i.ytimg.com/vi/FlsCjmMhFmw/default.jpg              False   \n",
       "4678   https://i.ytimg.com/vi/FlsCjmMhFmw/default.jpg              False   \n",
       "4018   https://i.ytimg.com/vi/6ZfuNTqbHE8/default.jpg              False   \n",
       "30844  https://i.ytimg.com/vi/7C2z4GqqS5E/default.jpg              False   \n",
       "3750   https://i.ytimg.com/vi/6ZfuNTqbHE8/default.jpg              False   \n",
       "\n",
       "       ratings_disabled  video_error_or_removed  \\\n",
       "4856              False                   False   \n",
       "4678              False                   False   \n",
       "4018              False                   False   \n",
       "30844             False                   False   \n",
       "3750              False                   False   \n",
       "\n",
       "                                             description  \n",
       "4856   YouTube Rewind 2017. Celebrating the videos, p...  \n",
       "4678   YouTube Rewind 2017. Celebrating the videos, p...  \n",
       "4018   There was an idea… Avengers: Infinity War. In ...  \n",
       "30844  BTS (방탄소년단) 'FAKE LOVE' Official MVDirector : ...  \n",
       "3750   There was an idea… Avengers: Infinity War. In ...  "
      ]
     },
     "execution_count": 54,
     "metadata": {},
     "output_type": "execute_result"
    }
   ],
   "source": [
    "kr100.head()"
   ]
  },
  {
   "cell_type": "code",
   "execution_count": 57,
   "metadata": {},
   "outputs": [
    {
     "data": {
      "text/plain": [
       "(100, 16)"
      ]
     },
     "execution_count": 57,
     "metadata": {},
     "output_type": "execute_result"
    }
   ],
   "source": [
    "kr100.shape"
   ]
  },
  {
   "cell_type": "markdown",
   "metadata": {},
   "source": [
    "3) 태그 수를 집계한 tag_count 컬럼 추가하기"
   ]
  },
  {
   "cell_type": "code",
   "execution_count": 58,
   "metadata": {},
   "outputs": [],
   "source": [
    "kr100['tag_count'] = kr100['tags'].apply(lambda x:x.count('|')+1)"
   ]
  },
  {
   "cell_type": "code",
   "execution_count": 59,
   "metadata": {},
   "outputs": [
    {
     "name": "stdout",
     "output_type": "stream",
     "text": [
      "Rewind|\"Rewind 2017\"|\"youtube rewind 2017\"|\"#YouTubeRewind\"|\"Rewind 2016\"|\"Dan and Phil\"|\"Grace Helbig\"|\"HolaSoyGerman\"|\"Lilly Singh\"|\"Markiplier\"|\"Swoozie\"|\"Rhett Link\"|\"Liza Koshy\"|\"Dolan Twins\"|\"Lele Pons\"|\"Jake Paul\"|\"Logan Paul\"|\"KSI\"|\"Joey Graceffa\"|\"Casey Neistat\"|\"Poppy\"|\"Niana Guerrero\"|\"Daddy Yankee\"|\"Luis Fonsi\"|\"Ed Sheeran\"|\"Kendrick Lamar\"|\"Stephen Colbert\"|\"Fidget Spinners\"|\"Slime\"|\"Backpack Kid\"|\"April the Giraffe\"|\"#Rewind\"|\"Despacito\"|\"Shape of you\"|\"YouTubeRewind\"|\"I’m the One\"|\"Humble\"\n",
      "37\n"
     ]
    }
   ],
   "source": [
    "print(kr100.iloc[1].tags)\n",
    "print(kr100.iloc[1].tag_count)"
   ]
  },
  {
   "cell_type": "markdown",
   "metadata": {},
   "source": [
    "#### 1-1. 태그 수와 조회수의 상관관계 분석하기 "
   ]
  },
  {
   "cell_type": "code",
   "execution_count": 60,
   "metadata": {},
   "outputs": [],
   "source": [
    "kr100['ranking_group']=sorted(list(range(0,10))*10)"
   ]
  },
  {
   "cell_type": "code",
   "execution_count": 64,
   "metadata": {},
   "outputs": [
    {
     "name": "stdout",
     "output_type": "stream",
     "text": [
      "ranking_group\n",
      "0    18.1\n",
      "1     8.1\n",
      "2    23.0\n",
      "3    17.3\n",
      "4    14.1\n",
      "5    13.2\n",
      "6    20.0\n",
      "7    19.9\n",
      "8    15.4\n",
      "9    17.3\n",
      "Name: tag_count, dtype: float64\n"
     ]
    }
   ],
   "source": [
    "print(kr100.groupby('ranking_group').tag_count.mean())"
   ]
  },
  {
   "cell_type": "markdown",
   "metadata": {},
   "source": [
    "조회수 상위 100개 동영상에서 10개씩 동영상을 그룹화하여 태그 수를 비교하였을 때, 태그 수에 따른 조회수 차이는 없는 것으로 보인다."
   ]
  },
  {
   "cell_type": "markdown",
   "metadata": {},
   "source": [
    "#### 1-2. 조회수 상위 100개 동영상에서 많이 사용된 태그 찾기"
   ]
  },
  {
   "cell_type": "code",
   "execution_count": 80,
   "metadata": {},
   "outputs": [],
   "source": [
    "def string_handle(x): #문자열 처리 함수\n",
    "    x = x.lower() #소문자로 변경\n",
    "    x = x.replace('\"','') #\"제거\n",
    "    x = x.replace('#','') ##제거\n",
    "    x = x.replace('_', ' ') #_를 공백으로 변경\n",
    "    x = x.strip() #양쪽 공백 제거\n",
    "    return x"
   ]
  },
  {
   "cell_type": "code",
   "execution_count": 74,
   "metadata": {},
   "outputs": [],
   "source": [
    "tag100 = []\n",
    "for tags in kr100['tags']:\n",
    "    tag_lst = tags.split('|')\n",
    "    tag100.extend(tag_lst)"
   ]
  },
  {
   "cell_type": "code",
   "execution_count": 81,
   "metadata": {},
   "outputs": [],
   "source": [
    "handled_tag100 = [string_handle(x) for x in tag100]"
   ]
  },
  {
   "cell_type": "code",
   "execution_count": 119,
   "metadata": {},
   "outputs": [
    {
     "data": {
      "text/html": [
       "<div>\n",
       "<style scoped>\n",
       "    .dataframe tbody tr th:only-of-type {\n",
       "        vertical-align: middle;\n",
       "    }\n",
       "\n",
       "    .dataframe tbody tr th {\n",
       "        vertical-align: top;\n",
       "    }\n",
       "\n",
       "    .dataframe thead th {\n",
       "        text-align: right;\n",
       "    }\n",
       "</style>\n",
       "<table border=\"1\" class=\"dataframe\">\n",
       "  <thead>\n",
       "    <tr style=\"text-align: right;\">\n",
       "      <th></th>\n",
       "      <th>tag</th>\n",
       "      <th>count</th>\n",
       "    </tr>\n",
       "  </thead>\n",
       "  <tbody>\n",
       "    <tr>\n",
       "      <th>250</th>\n",
       "      <td>marvel</td>\n",
       "      <td>26</td>\n",
       "    </tr>\n",
       "    <tr>\n",
       "      <th>360</th>\n",
       "      <td>superhero</td>\n",
       "      <td>18</td>\n",
       "    </tr>\n",
       "    <tr>\n",
       "      <th>149</th>\n",
       "      <td>fake love</td>\n",
       "      <td>18</td>\n",
       "    </tr>\n",
       "    <tr>\n",
       "      <th>359</th>\n",
       "      <td>super hero</td>\n",
       "      <td>18</td>\n",
       "    </tr>\n",
       "    <tr>\n",
       "      <th>72</th>\n",
       "      <td>comics</td>\n",
       "      <td>18</td>\n",
       "    </tr>\n",
       "    <tr>\n",
       "      <th>71</th>\n",
       "      <td>comic books</td>\n",
       "      <td>18</td>\n",
       "    </tr>\n",
       "    <tr>\n",
       "      <th>202</th>\n",
       "      <td>infinity war</td>\n",
       "      <td>18</td>\n",
       "    </tr>\n",
       "    <tr>\n",
       "      <th>26</th>\n",
       "      <td>bangtan</td>\n",
       "      <td>15</td>\n",
       "    </tr>\n",
       "    <tr>\n",
       "      <th>32</th>\n",
       "      <td>bighit</td>\n",
       "      <td>15</td>\n",
       "    </tr>\n",
       "    <tr>\n",
       "      <th>44</th>\n",
       "      <td>bts</td>\n",
       "      <td>15</td>\n",
       "    </tr>\n",
       "    <tr>\n",
       "      <th>20</th>\n",
       "      <td>avengers</td>\n",
       "      <td>15</td>\n",
       "    </tr>\n",
       "    <tr>\n",
       "      <th>452</th>\n",
       "      <td>방탄</td>\n",
       "      <td>15</td>\n",
       "    </tr>\n",
       "    <tr>\n",
       "      <th>453</th>\n",
       "      <td>방탄소년단</td>\n",
       "      <td>15</td>\n",
       "    </tr>\n",
       "    <tr>\n",
       "      <th>456</th>\n",
       "      <td>빅히트</td>\n",
       "      <td>15</td>\n",
       "    </tr>\n",
       "    <tr>\n",
       "      <th>290</th>\n",
       "      <td>pop</td>\n",
       "      <td>15</td>\n",
       "    </tr>\n",
       "  </tbody>\n",
       "</table>\n",
       "</div>"
      ],
      "text/plain": [
       "              tag  count\n",
       "250        marvel     26\n",
       "360     superhero     18\n",
       "149     fake love     18\n",
       "359    super hero     18\n",
       "72         comics     18\n",
       "71    comic books     18\n",
       "202  infinity war     18\n",
       "26        bangtan     15\n",
       "32         bighit     15\n",
       "44            bts     15\n",
       "20       avengers     15\n",
       "452            방탄     15\n",
       "453         방탄소년단     15\n",
       "456           빅히트     15\n",
       "290           pop     15"
      ]
     },
     "execution_count": 119,
     "metadata": {},
     "output_type": "execute_result"
    }
   ],
   "source": [
    "tag100_count=pd.DataFrame(data={'tag':handled_tag100}).groupby('tag').size().reset_index().rename(columns={0:'count'}).sort_values('count',ascending=False)\n",
    "tag100_count.head(15)"
   ]
  },
  {
   "cell_type": "markdown",
   "metadata": {},
   "source": [
    "많이 사용된 태그 상위 15개에서 pop을 제외한 14개 모두 marvel이나 방탄소년단과 연관된 태그이다. 17~18년도 한국 유튜브 트랜드는 마블 영화인 어밴져스와 방탄소년단이 지배적이였던 것으로 보인다."
   ]
  },
  {
   "cell_type": "markdown",
   "metadata": {},
   "source": [
    "#### 1-3. 캐나다, 미국, 영국의 조회수 상위 100개 영상의 태그 트렌드 분석"
   ]
  },
  {
   "cell_type": "code",
   "execution_count": 122,
   "metadata": {},
   "outputs": [],
   "source": [
    "ca=pd.read_csv('CAvideos.csv')\n",
    "us=pd.read_csv('USvideos.csv')\n",
    "gb=pd.read_csv('GBvideos.csv')"
   ]
  },
  {
   "cell_type": "code",
   "execution_count": 128,
   "metadata": {},
   "outputs": [],
   "source": [
    "def top_tag10(data):\n",
    "    df100 = data.sort_values('views', ascending=False).iloc[:100,:]\n",
    "    tag100 = []\n",
    "    for tags in df100['tags']:\n",
    "        tag_lst = tags.split('|')\n",
    "        tag100.extend(tag_lst)\n",
    "    handled_tag100 = [string_handle(x) for x in tag100]\n",
    "    tag100_count=pd.DataFrame(data={'tag':handled_tag100}).groupby('tag').size().reset_index().rename(columns={0:'count'}).sort_values('count',ascending=False)\n",
    "    return tag100_count.iloc[:10,:]"
   ]
  },
  {
   "cell_type": "code",
   "execution_count": 136,
   "metadata": {},
   "outputs": [
    {
     "data": {
      "text/html": [
       "<div>\n",
       "<style scoped>\n",
       "    .dataframe tbody tr th:only-of-type {\n",
       "        vertical-align: middle;\n",
       "    }\n",
       "\n",
       "    .dataframe tbody tr th {\n",
       "        vertical-align: top;\n",
       "    }\n",
       "\n",
       "    .dataframe thead th {\n",
       "        text-align: right;\n",
       "    }\n",
       "</style>\n",
       "<table border=\"1\" class=\"dataframe\">\n",
       "  <thead>\n",
       "    <tr style=\"text-align: right;\">\n",
       "      <th></th>\n",
       "      <th>tag</th>\n",
       "      <th>count</th>\n",
       "    </tr>\n",
       "  </thead>\n",
       "  <tbody>\n",
       "    <tr>\n",
       "      <th>306</th>\n",
       "      <td>pop</td>\n",
       "      <td>21</td>\n",
       "    </tr>\n",
       "    <tr>\n",
       "      <th>264</th>\n",
       "      <td>marvel</td>\n",
       "      <td>19</td>\n",
       "    </tr>\n",
       "    <tr>\n",
       "      <th>387</th>\n",
       "      <td>superhero</td>\n",
       "      <td>14</td>\n",
       "    </tr>\n",
       "    <tr>\n",
       "      <th>386</th>\n",
       "      <td>super hero</td>\n",
       "      <td>14</td>\n",
       "    </tr>\n",
       "    <tr>\n",
       "      <th>85</th>\n",
       "      <td>comics</td>\n",
       "      <td>14</td>\n",
       "    </tr>\n",
       "    <tr>\n",
       "      <th>84</th>\n",
       "      <td>comic books</td>\n",
       "      <td>14</td>\n",
       "    </tr>\n",
       "    <tr>\n",
       "      <th>189</th>\n",
       "      <td>infinity war</td>\n",
       "      <td>14</td>\n",
       "    </tr>\n",
       "    <tr>\n",
       "      <th>27</th>\n",
       "      <td>avengers</td>\n",
       "      <td>14</td>\n",
       "    </tr>\n",
       "    <tr>\n",
       "      <th>126</th>\n",
       "      <td>ed sheeran</td>\n",
       "      <td>13</td>\n",
       "    </tr>\n",
       "    <tr>\n",
       "      <th>464</th>\n",
       "      <td>youtuberewind</td>\n",
       "      <td>12</td>\n",
       "    </tr>\n",
       "  </tbody>\n",
       "</table>\n",
       "</div>"
      ],
      "text/plain": [
       "               tag  count\n",
       "306            pop     21\n",
       "264         marvel     19\n",
       "387      superhero     14\n",
       "386     super hero     14\n",
       "85          comics     14\n",
       "84     comic books     14\n",
       "189   infinity war     14\n",
       "27        avengers     14\n",
       "126     ed sheeran     13\n",
       "464  youtuberewind     12"
      ]
     },
     "execution_count": 136,
     "metadata": {},
     "output_type": "execute_result"
    }
   ],
   "source": [
    "top_tag10(ca)"
   ]
  },
  {
   "cell_type": "markdown",
   "metadata": {},
   "source": [
    "캐나다도 한국과 마찬가지로 marvle의 어밴저스가 지배적인것을 볼 수 있다. 더불어 Ed Sheeran의 노래도 인기를 끈 것으로 보인다."
   ]
  },
  {
   "cell_type": "code",
   "execution_count": 137,
   "metadata": {},
   "outputs": [
    {
     "data": {
      "text/html": [
       "<div>\n",
       "<style scoped>\n",
       "    .dataframe tbody tr th:only-of-type {\n",
       "        vertical-align: middle;\n",
       "    }\n",
       "\n",
       "    .dataframe tbody tr th {\n",
       "        vertical-align: top;\n",
       "    }\n",
       "\n",
       "    .dataframe thead th {\n",
       "        text-align: right;\n",
       "    }\n",
       "</style>\n",
       "<table border=\"1\" class=\"dataframe\">\n",
       "  <thead>\n",
       "    <tr style=\"text-align: right;\">\n",
       "      <th></th>\n",
       "      <th>tag</th>\n",
       "      <th>count</th>\n",
       "    </tr>\n",
       "  </thead>\n",
       "  <tbody>\n",
       "    <tr>\n",
       "      <th>57</th>\n",
       "      <td>fake love</td>\n",
       "      <td>34</td>\n",
       "    </tr>\n",
       "    <tr>\n",
       "      <th>137</th>\n",
       "      <td>rap</td>\n",
       "      <td>29</td>\n",
       "    </tr>\n",
       "    <tr>\n",
       "      <th>112</th>\n",
       "      <td>mcdj recording/rca records</td>\n",
       "      <td>22</td>\n",
       "    </tr>\n",
       "    <tr>\n",
       "      <th>159</th>\n",
       "      <td>this is america</td>\n",
       "      <td>22</td>\n",
       "    </tr>\n",
       "    <tr>\n",
       "      <th>35</th>\n",
       "      <td>childish gambino</td>\n",
       "      <td>22</td>\n",
       "    </tr>\n",
       "    <tr>\n",
       "      <th>135</th>\n",
       "      <td>pop</td>\n",
       "      <td>21</td>\n",
       "    </tr>\n",
       "    <tr>\n",
       "      <th>138</th>\n",
       "      <td>records</td>\n",
       "      <td>16</td>\n",
       "    </tr>\n",
       "    <tr>\n",
       "      <th>15</th>\n",
       "      <td>bts</td>\n",
       "      <td>12</td>\n",
       "    </tr>\n",
       "    <tr>\n",
       "      <th>38</th>\n",
       "      <td>cry</td>\n",
       "      <td>12</td>\n",
       "    </tr>\n",
       "    <tr>\n",
       "      <th>131</th>\n",
       "      <td>no</td>\n",
       "      <td>12</td>\n",
       "    </tr>\n",
       "  </tbody>\n",
       "</table>\n",
       "</div>"
      ],
      "text/plain": [
       "                            tag  count\n",
       "57                    fake love     34\n",
       "137                         rap     29\n",
       "112  mcdj recording/rca records     22\n",
       "159             this is america     22\n",
       "35             childish gambino     22\n",
       "135                         pop     21\n",
       "138                     records     16\n",
       "15                          bts     12\n",
       "38                          cry     12\n",
       "131                          no     12"
      ]
     },
     "execution_count": 137,
     "metadata": {},
     "output_type": "execute_result"
    }
   ],
   "source": [
    "top_tag10(us)"
   ]
  },
  {
   "cell_type": "markdown",
   "metadata": {},
   "source": [
    "미국은 오히려 순위권에 marvel 관련 태그가 없고 비교적 태그들이 다양하게 분포하고 있다. 다른 나라의 유튜브 트렌드와 다른 점은 순위권에 있는 많은 태그가 대중음악와 관련되어 있다는 점이다. 방탄소년단의 fake love, Childish Gambino의 This is America가 인기를 끌었고, 그 밖에도 rap, pop, recoreds 등 대부분의 태그가 음악과 관련되어 있다."
   ]
  },
  {
   "cell_type": "code",
   "execution_count": 138,
   "metadata": {},
   "outputs": [
    {
     "data": {
      "text/html": [
       "<div>\n",
       "<style scoped>\n",
       "    .dataframe tbody tr th:only-of-type {\n",
       "        vertical-align: middle;\n",
       "    }\n",
       "\n",
       "    .dataframe tbody tr th {\n",
       "        vertical-align: top;\n",
       "    }\n",
       "\n",
       "    .dataframe thead th {\n",
       "        text-align: right;\n",
       "    }\n",
       "</style>\n",
       "<table border=\"1\" class=\"dataframe\">\n",
       "  <thead>\n",
       "    <tr style=\"text-align: right;\">\n",
       "      <th></th>\n",
       "      <th>tag</th>\n",
       "      <th>count</th>\n",
       "    </tr>\n",
       "  </thead>\n",
       "  <tbody>\n",
       "    <tr>\n",
       "      <th>4</th>\n",
       "      <td>bad bunny</td>\n",
       "      <td>54</td>\n",
       "    </tr>\n",
       "    <tr>\n",
       "      <th>60</th>\n",
       "      <td>ozuna</td>\n",
       "      <td>45</td>\n",
       "    </tr>\n",
       "    <tr>\n",
       "      <th>1</th>\n",
       "      <td>amorfoda</td>\n",
       "      <td>42</td>\n",
       "    </tr>\n",
       "    <tr>\n",
       "      <th>69</th>\n",
       "      <td>romeo santos</td>\n",
       "      <td>33</td>\n",
       "    </tr>\n",
       "    <tr>\n",
       "      <th>26</th>\n",
       "      <td>el farsante remix</td>\n",
       "      <td>33</td>\n",
       "    </tr>\n",
       "    <tr>\n",
       "      <th>62</th>\n",
       "      <td>piso 21</td>\n",
       "      <td>22</td>\n",
       "    </tr>\n",
       "    <tr>\n",
       "      <th>68</th>\n",
       "      <td>reik</td>\n",
       "      <td>22</td>\n",
       "    </tr>\n",
       "    <tr>\n",
       "      <th>23</th>\n",
       "      <td>dura</td>\n",
       "      <td>22</td>\n",
       "    </tr>\n",
       "    <tr>\n",
       "      <th>24</th>\n",
       "      <td>déjala que vuelva</td>\n",
       "      <td>22</td>\n",
       "    </tr>\n",
       "    <tr>\n",
       "      <th>25</th>\n",
       "      <td>ed sheeran</td>\n",
       "      <td>22</td>\n",
       "    </tr>\n",
       "  </tbody>\n",
       "</table>\n",
       "</div>"
      ],
      "text/plain": [
       "                  tag  count\n",
       "4           bad bunny     54\n",
       "60              ozuna     45\n",
       "1            amorfoda     42\n",
       "69       romeo santos     33\n",
       "26  el farsante remix     33\n",
       "62            piso 21     22\n",
       "68               reik     22\n",
       "23               dura     22\n",
       "24  déjala que vuelva     22\n",
       "25         ed sheeran     22"
      ]
     },
     "execution_count": 138,
     "metadata": {},
     "output_type": "execute_result"
    }
   ],
   "source": [
    "top_tag10(gb)"
   ]
  },
  {
   "cell_type": "markdown",
   "metadata": {},
   "source": [
    "영국도 미국과 마찬가지로 상위 100개 영상의 대부분의 태그가 대중음악과 관련된 태그였다. 영국에는 가수 bad bunny의 amorfoda라는 노래가 선풍적인 인기를 끈 것으로 보인다. 100개 영상 중 거의 절반이 이 곡과 관련된 태그를 가지고 있었다. 영국 유튜브에서 의외인 점은 태그 대부분이 스페인 노래와 관련되었다는 점이다."
   ]
  }
 ],
 "metadata": {
  "kernelspec": {
   "display_name": "Python 3",
   "language": "python",
   "name": "python3"
  },
  "language_info": {
   "codemirror_mode": {
    "name": "ipython",
    "version": 3
   },
   "file_extension": ".py",
   "mimetype": "text/x-python",
   "name": "python",
   "nbconvert_exporter": "python",
   "pygments_lexer": "ipython3",
   "version": "3.7.3"
  }
 },
 "nbformat": 4,
 "nbformat_minor": 2
}
